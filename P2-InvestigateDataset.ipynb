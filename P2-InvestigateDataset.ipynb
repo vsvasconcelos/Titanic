{
 "cells": [
  {
   "cell_type": "markdown",
   "metadata": {},
   "source": [
    "## Introdução\n",
    "\n",
    "O conjunto de dados escolhido para realização deste projeto foi os dados do acidente com o navio Titanic.\n",
    "Segundo a descrição, a amostra possui 891 dados demograficos e dos passageiros e tripulação do návio, sendo a população total da viagem de 2224 pessoas.\n",
    "O nome do arquivo de dados é 'titanic-data.csv'; e a descrição dos seus campos pode ser consultada [aqui](https://www.kaggle.com/c/titanic/data)."
   ]
  },
  {
   "cell_type": "markdown",
   "metadata": {},
   "source": [
    "<font color='green'> __Q1) Uma primeira questão é se a amostra (n=891) é estatisticamente representativa da população (N=2224)?__<\\font>"
   ]
  },
  {
   "cell_type": "markdown",
   "metadata": {},
   "source": [
    "A [literatura](https://books.google.com.br/books?id=ElxWPgAACAAJ) apresenta a Equação abaixo para o cálculo do tamanho (n) da amostra para uma população (N) finita, contudo, necessita-se para o cálculo o valor do desvio padrão da população (Sigma) e a margem de erro (E), informações que não está disponível.\n",
    "Para contornar isto, é recomendado a utilização de um estudo piloto, como pelo menos 31 amostras, utilizando o valor da variãncia obtido para a amostra como parãmetros da população."
   ]
  },
  {
   "cell_type": "markdown",
   "metadata": {},
   "source": [
    "$$ n= {{N*\\sigma^2 * {Z_{(\\alpha/2)}}}^2\\over {(N-1)*E^2 + \\sigma^2*{Z_{(\\alpha/2)}}^2 } }     $$ "
   ]
  },
  {
   "cell_type": "markdown",
   "metadata": {},
   "source": [
    "### O primeiro passo é o carregamento e a limpeza, se necessário, do conjunto de dados.\n",
    "Este será carregado utilizando uma DataFrame Pandas."
   ]
  },
  {
   "cell_type": "code",
   "execution_count": 3,
   "metadata": {
    "collapsed": false
   },
   "outputs": [],
   "source": [
    "import pandas as pd\n",
    "\n",
    "dados = pd.read_csv('titanic-data.csv',index_col='PassengerId')"
   ]
  },
  {
   "cell_type": "markdown",
   "metadata": {},
   "source": [
    "Verificando as primeiras e as últimas linhas do arquivo para ter certeza que o formato está correto."
   ]
  },
  {
   "cell_type": "code",
   "execution_count": 4,
   "metadata": {
    "collapsed": false
   },
   "outputs": [
    {
     "data": {
      "text/html": [
       "<div>\n",
       "<table border=\"1\" class=\"dataframe\">\n",
       "  <thead>\n",
       "    <tr style=\"text-align: right;\">\n",
       "      <th></th>\n",
       "      <th>Survived</th>\n",
       "      <th>Pclass</th>\n",
       "      <th>Name</th>\n",
       "      <th>Sex</th>\n",
       "      <th>Age</th>\n",
       "      <th>SibSp</th>\n",
       "      <th>Parch</th>\n",
       "      <th>Ticket</th>\n",
       "      <th>Fare</th>\n",
       "      <th>Cabin</th>\n",
       "      <th>Embarked</th>\n",
       "    </tr>\n",
       "    <tr>\n",
       "      <th>PassengerId</th>\n",
       "      <th></th>\n",
       "      <th></th>\n",
       "      <th></th>\n",
       "      <th></th>\n",
       "      <th></th>\n",
       "      <th></th>\n",
       "      <th></th>\n",
       "      <th></th>\n",
       "      <th></th>\n",
       "      <th></th>\n",
       "      <th></th>\n",
       "    </tr>\n",
       "  </thead>\n",
       "  <tbody>\n",
       "    <tr>\n",
       "      <th>1</th>\n",
       "      <td>0</td>\n",
       "      <td>3</td>\n",
       "      <td>Braund, Mr. Owen Harris</td>\n",
       "      <td>male</td>\n",
       "      <td>22.0</td>\n",
       "      <td>1</td>\n",
       "      <td>0</td>\n",
       "      <td>A/5 21171</td>\n",
       "      <td>7.2500</td>\n",
       "      <td>NaN</td>\n",
       "      <td>S</td>\n",
       "    </tr>\n",
       "    <tr>\n",
       "      <th>2</th>\n",
       "      <td>1</td>\n",
       "      <td>1</td>\n",
       "      <td>Cumings, Mrs. John Bradley (Florence Briggs Th...</td>\n",
       "      <td>female</td>\n",
       "      <td>38.0</td>\n",
       "      <td>1</td>\n",
       "      <td>0</td>\n",
       "      <td>PC 17599</td>\n",
       "      <td>71.2833</td>\n",
       "      <td>C85</td>\n",
       "      <td>C</td>\n",
       "    </tr>\n",
       "  </tbody>\n",
       "</table>\n",
       "</div>"
      ],
      "text/plain": [
       "             Survived  Pclass  \\\n",
       "PassengerId                     \n",
       "1                   0       3   \n",
       "2                   1       1   \n",
       "\n",
       "                                                          Name     Sex   Age  \\\n",
       "PassengerId                                                                    \n",
       "1                                      Braund, Mr. Owen Harris    male  22.0   \n",
       "2            Cumings, Mrs. John Bradley (Florence Briggs Th...  female  38.0   \n",
       "\n",
       "             SibSp  Parch     Ticket     Fare Cabin Embarked  \n",
       "PassengerId                                                   \n",
       "1                1      0  A/5 21171   7.2500   NaN        S  \n",
       "2                1      0   PC 17599  71.2833   C85        C  "
      ]
     },
     "execution_count": 4,
     "metadata": {},
     "output_type": "execute_result"
    }
   ],
   "source": [
    "dados.head(2)"
   ]
  },
  {
   "cell_type": "code",
   "execution_count": 5,
   "metadata": {
    "collapsed": false
   },
   "outputs": [
    {
     "data": {
      "text/html": [
       "<div>\n",
       "<table border=\"1\" class=\"dataframe\">\n",
       "  <thead>\n",
       "    <tr style=\"text-align: right;\">\n",
       "      <th></th>\n",
       "      <th>Survived</th>\n",
       "      <th>Pclass</th>\n",
       "      <th>Name</th>\n",
       "      <th>Sex</th>\n",
       "      <th>Age</th>\n",
       "      <th>SibSp</th>\n",
       "      <th>Parch</th>\n",
       "      <th>Ticket</th>\n",
       "      <th>Fare</th>\n",
       "      <th>Cabin</th>\n",
       "      <th>Embarked</th>\n",
       "    </tr>\n",
       "    <tr>\n",
       "      <th>PassengerId</th>\n",
       "      <th></th>\n",
       "      <th></th>\n",
       "      <th></th>\n",
       "      <th></th>\n",
       "      <th></th>\n",
       "      <th></th>\n",
       "      <th></th>\n",
       "      <th></th>\n",
       "      <th></th>\n",
       "      <th></th>\n",
       "      <th></th>\n",
       "    </tr>\n",
       "  </thead>\n",
       "  <tbody>\n",
       "    <tr>\n",
       "      <th>890</th>\n",
       "      <td>1</td>\n",
       "      <td>1</td>\n",
       "      <td>Behr, Mr. Karl Howell</td>\n",
       "      <td>male</td>\n",
       "      <td>26.0</td>\n",
       "      <td>0</td>\n",
       "      <td>0</td>\n",
       "      <td>111369</td>\n",
       "      <td>30.00</td>\n",
       "      <td>C148</td>\n",
       "      <td>C</td>\n",
       "    </tr>\n",
       "    <tr>\n",
       "      <th>891</th>\n",
       "      <td>0</td>\n",
       "      <td>3</td>\n",
       "      <td>Dooley, Mr. Patrick</td>\n",
       "      <td>male</td>\n",
       "      <td>32.0</td>\n",
       "      <td>0</td>\n",
       "      <td>0</td>\n",
       "      <td>370376</td>\n",
       "      <td>7.75</td>\n",
       "      <td>NaN</td>\n",
       "      <td>Q</td>\n",
       "    </tr>\n",
       "  </tbody>\n",
       "</table>\n",
       "</div>"
      ],
      "text/plain": [
       "             Survived  Pclass                   Name   Sex   Age  SibSp  \\\n",
       "PassengerId                                                               \n",
       "890                 1       1  Behr, Mr. Karl Howell  male  26.0      0   \n",
       "891                 0       3    Dooley, Mr. Patrick  male  32.0      0   \n",
       "\n",
       "             Parch  Ticket   Fare Cabin Embarked  \n",
       "PassengerId                                       \n",
       "890              0  111369  30.00  C148        C  \n",
       "891              0  370376   7.75   NaN        Q  "
      ]
     },
     "execution_count": 5,
     "metadata": {},
     "output_type": "execute_result"
    }
   ],
   "source": [
    "dados.tail(2)"
   ]
  },
  {
   "cell_type": "markdown",
   "metadata": {},
   "source": [
    "Com base na visualização destas primeiras linhas e estudando a descrição dos campos é possível investigar inconsistências ou problemas nos dados, necessitando assim sua limpeza."
   ]
  },
  {
   "cell_type": "markdown",
   "metadata": {},
   "source": [
    "Verificando a quantidade de registros lidos, este valor deve ser igual a 891, que foi o valor informado na descrição da base de dados."
   ]
  },
  {
   "cell_type": "code",
   "execution_count": 6,
   "metadata": {
    "collapsed": false
   },
   "outputs": [
    {
     "data": {
      "text/plain": [
       "891"
      ]
     },
     "execution_count": 6,
     "metadata": {},
     "output_type": "execute_result"
    }
   ],
   "source": [
    "len(dados)"
   ]
  },
  {
   "cell_type": "markdown",
   "metadata": {},
   "source": [
    "Conforme saída acima (891), a quantidade de registros está correta. Contudo, é necessário verificar ainda se para alguns dos campos falta alguma informação."
   ]
  },
  {
   "cell_type": "markdown",
   "metadata": {},
   "source": [
    "O comando abaixo conta a quantidade de registros para cada um dos campos da base de dados."
   ]
  },
  {
   "cell_type": "code",
   "execution_count": 7,
   "metadata": {
    "collapsed": false
   },
   "outputs": [
    {
     "data": {
      "text/plain": [
       "Survived    891\n",
       "Pclass      891\n",
       "Name        891\n",
       "Sex         891\n",
       "Age         714\n",
       "SibSp       891\n",
       "Parch       891\n",
       "Ticket      891\n",
       "Fare        891\n",
       "Cabin       204\n",
       "Embarked    889\n",
       "dtype: int64"
      ]
     },
     "execution_count": 7,
     "metadata": {},
     "output_type": "execute_result"
    }
   ],
   "source": [
    "dados.count()"
   ]
  },
  {
   "cell_type": "markdown",
   "metadata": {},
   "source": [
    "Conforme saída do comando, os campos: Age (714); Cabin (204); e Embarked (889) possuem alguns registros faltantes, assim, dependendo da influência destas variáveis, isto deverá ser considerado na análise."
   ]
  },
  {
   "cell_type": "markdown",
   "metadata": {},
   "source": [
    "O registro \"Survived\" informa se o passageiro sobrevivel (valor 1) ou não (valor 0). Segundo a [Wikipedia](https://en.wikipedia.org/wiki/Sinking_of_the_RMS_Titanic) das 2224 pessoas a bordo, 1514 perderam suas vidas, enquanto 710 foram salvas.\n",
    "__Q2) Sabendo disto, da população de sobreviventes do naufrágio, qual o tamanho da amostra contida na base de dados 'titanic-data.csv'?__"
   ]
  },
  {
   "cell_type": "markdown",
   "metadata": {},
   "source": [
    "Para responder a esta pergunta todas as linhas da coluna Survived serão percorridas e contados os números de zeros, variável morto, e os números de um, variável vivo."
   ]
  },
  {
   "cell_type": "code",
   "execution_count": 8,
   "metadata": {
    "collapsed": false
   },
   "outputs": [
    {
     "data": {
      "text/plain": [
       "0    549\n",
       "1    342\n",
       "Name: Survived, dtype: int64"
      ]
     },
     "execution_count": 8,
     "metadata": {},
     "output_type": "execute_result"
    }
   ],
   "source": [
    "dados.Survived.value_counts()"
   ]
  },
  {
   "cell_type": "markdown",
   "metadata": {},
   "source": [
    "<font color='blue'> R2) Assim, conforme resultados, das 710 vidas (população) salvas no acidente, 342 (amostra) fazem parte da base de dados 'titanic-data.csv.\n",
    "Da mesma forma que dos 1514 mortos (população), 549 (amostra) fazem parte da base de dados em questão.</font>"
   ]
  },
  {
   "cell_type": "markdown",
   "metadata": {},
   "source": [
    "Segundo dados da edição histórica da [Revista Veja](http://veja.abril.com.br/historia/titanic/tragedia-naufragio-iceberg-mortos-causas-investigacao.shtml), \"[...]Quando o veteraníssimo capitão britânico Edward Smith percebeu que sua embarcação havia sido comprometida ... ordenou a imediata evacuação do Titanic. ... Os oficiais Murdoch e Lightoller comandaram então a distribuição dos passageiros nos botes, tendo como diretriz a regra internacional de embarcar prioritariamente mulheres e crianças."
   ]
  },
  {
   "cell_type": "markdown",
   "metadata": {},
   "source": [
    "<font color='green'> Q3) A base de dados evidencia que a regra internacional de priorizar mulheres e crianças foi seguida?"
   ]
  },
  {
   "cell_type": "markdown",
   "metadata": {},
   "source": [
    "Para tentar responder a essa questão serão relacionados os campos \"Survived\", \"Sex\" e \"Age\".\n",
    "Conforme observado anteriormente, o campo \"Age\" possui campos faltantes para 105 passageiros (819-714), assim, só serão utilizados nesta análise os dados de 714 passageiros que possuem suas idades registradas."
   ]
  },
  {
   "cell_type": "markdown",
   "metadata": {},
   "source": [
    "Inicialmente criou-se um novo dataframa somente com os campos \"Survived\", \"Sex\" e \"Age\""
   ]
  },
  {
   "cell_type": "code",
   "execution_count": 9,
   "metadata": {
    "collapsed": false
   },
   "outputs": [],
   "source": [
    "dados_SSA=dados[['Survived', 'Sex', 'Age']]"
   ]
  },
  {
   "cell_type": "markdown",
   "metadata": {},
   "source": [
    "Na sequência as linhas que possuirem no campo 'Age' algum dado faltante (NaN) foram desconsideradas"
   ]
  },
  {
   "cell_type": "code",
   "execution_count": 10,
   "metadata": {
    "collapsed": false
   },
   "outputs": [
    {
     "data": {
      "text/plain": [
       "714"
      ]
     },
     "execution_count": 10,
     "metadata": {},
     "output_type": "execute_result"
    }
   ],
   "source": [
    "dados_SSA_limpo=dados_SSA.dropna()\n",
    "len(dados_SSA_limpo)"
   ]
  },
  {
   "cell_type": "markdown",
   "metadata": {},
   "source": [
    "Conforme resultado, com essas operações só restaram os 714 dados completos, sendo que será esse o conjunto de dados utilizado para responder a se as mulheres e crianças foram priorizadas."
   ]
  },
  {
   "cell_type": "code",
   "execution_count": 11,
   "metadata": {
    "collapsed": false
   },
   "outputs": [
    {
     "data": {
      "text/html": [
       "<div>\n",
       "<table border=\"1\" class=\"dataframe\">\n",
       "  <thead>\n",
       "    <tr style=\"text-align: right;\">\n",
       "      <th></th>\n",
       "      <th>Survived</th>\n",
       "      <th>Sex</th>\n",
       "      <th>Age</th>\n",
       "    </tr>\n",
       "    <tr>\n",
       "      <th>PassengerId</th>\n",
       "      <th></th>\n",
       "      <th></th>\n",
       "      <th></th>\n",
       "    </tr>\n",
       "  </thead>\n",
       "  <tbody>\n",
       "    <tr>\n",
       "      <th>1</th>\n",
       "      <td>0</td>\n",
       "      <td>male</td>\n",
       "      <td>22.0</td>\n",
       "    </tr>\n",
       "    <tr>\n",
       "      <th>2</th>\n",
       "      <td>1</td>\n",
       "      <td>female</td>\n",
       "      <td>38.0</td>\n",
       "    </tr>\n",
       "  </tbody>\n",
       "</table>\n",
       "</div>"
      ],
      "text/plain": [
       "             Survived     Sex   Age\n",
       "PassengerId                        \n",
       "1                   0    male  22.0\n",
       "2                   1  female  38.0"
      ]
     },
     "execution_count": 11,
     "metadata": {},
     "output_type": "execute_result"
    }
   ],
   "source": [
    "dados_SSA_limpo.head(2)"
   ]
  },
  {
   "cell_type": "markdown",
   "metadata": {},
   "source": [
    "Quantidade de sobreviventes na base limpa?"
   ]
  },
  {
   "cell_type": "code",
   "execution_count": 12,
   "metadata": {
    "collapsed": false
   },
   "outputs": [
    {
     "data": {
      "text/plain": [
       "290"
      ]
     },
     "execution_count": 12,
     "metadata": {},
     "output_type": "execute_result"
    }
   ],
   "source": [
    "len(dados_SSA_limpo[dados_SSA_limpo.Survived==1])"
   ]
  },
  {
   "cell_type": "markdown",
   "metadata": {},
   "source": [
    "Conforme saída, 290 dos 714 passageiros da lista limpa foram sobreviventes."
   ]
  },
  {
   "cell_type": "markdown",
   "metadata": {},
   "source": [
    "Quantas mulheres e homens na base limpa?"
   ]
  },
  {
   "cell_type": "code",
   "execution_count": 13,
   "metadata": {
    "collapsed": false
   },
   "outputs": [
    {
     "data": {
      "text/plain": [
       "male      453\n",
       "female    261\n",
       "Name: Sex, dtype: int64"
      ]
     },
     "execution_count": 13,
     "metadata": {},
     "output_type": "execute_result"
    }
   ],
   "source": [
    "dados_SSA_limpo.Sex.value_counts()"
   ]
  },
  {
   "cell_type": "markdown",
   "metadata": {},
   "source": [
    "Conforme saída, dos 714 passageiros da lista limpa 261 eram mulheres e 453 homens."
   ]
  },
  {
   "cell_type": "markdown",
   "metadata": {},
   "source": [
    "Quantos sobreviventes são mulheres na base limpa?"
   ]
  },
  {
   "cell_type": "code",
   "execution_count": 14,
   "metadata": {
    "collapsed": false
   },
   "outputs": [
    {
     "data": {
      "text/plain": [
       "197"
      ]
     },
     "execution_count": 14,
     "metadata": {},
     "output_type": "execute_result"
    }
   ],
   "source": [
    "len (dados_SSA_limpo[(dados_SSA_limpo.Survived==1) & (dados_SSA_limpo.Sex=='female')])"
   ]
  },
  {
   "cell_type": "markdown",
   "metadata": {},
   "source": [
    "Portanto, 197 dos 290 sobreviventes são mulheres."
   ]
  },
  {
   "cell_type": "markdown",
   "metadata": {},
   "source": [
    "Com relação a idade: quais os limites, a média, o desvio padrão ... como é o comportamento desta variável (estatística descritiva)?"
   ]
  },
  {
   "cell_type": "code",
   "execution_count": 15,
   "metadata": {
    "collapsed": false
   },
   "outputs": [
    {
     "data": {
      "text/plain": [
       "count    714.000000\n",
       "mean      29.699118\n",
       "std       14.526497\n",
       "min        0.420000\n",
       "25%       20.125000\n",
       "50%       28.000000\n",
       "75%       38.000000\n",
       "max       80.000000\n",
       "Name: Age, dtype: float64"
      ]
     },
     "execution_count": 15,
     "metadata": {},
     "output_type": "execute_result"
    }
   ],
   "source": [
    "dados_SSA_limpo.Age.describe()"
   ]
  },
  {
   "cell_type": "markdown",
   "metadata": {},
   "source": [
    "Assim, a idade dos passageiros variou entre 0,42 anos (5 meses) até 80 anos;sendo a média 29,7 anos e o desvio padrão 14,5 anos.\n",
    "25% das idades era inferior a 20,1 anos e 75% era inferior a 38 anos."
   ]
  },
  {
   "cell_type": "markdown",
   "metadata": {},
   "source": [
    "Como é a distribuição da idade?"
   ]
  },
  {
   "cell_type": "code",
   "execution_count": 16,
   "metadata": {
    "collapsed": false
   },
   "outputs": [
    {
     "name": "stderr",
     "output_type": "stream",
     "text": [
      "/home/vagner/anaconda2/lib/python2.7/site-packages/matplotlib/font_manager.py:273: UserWarning: Matplotlib is building the font cache using fc-list. This may take a moment.\n",
      "  warnings.warn('Matplotlib is building the font cache using fc-list. This may take a moment.')\n"
     ]
    },
    {
     "name": "stdout",
     "output_type": "stream",
     "text": [
      "Populating the interactive namespace from numpy and matplotlib\n"
     ]
    },
    {
     "data": {
      "text/plain": [
       "<matplotlib.text.Text at 0x7fa29b6e5c10>"
      ]
     },
     "execution_count": 16,
     "metadata": {},
     "output_type": "execute_result"
    },
    {
     "data": {
      "image/png": "[encoded data removed]",
      "text/plain": [
       "<matplotlib.figure.Figure at 0x7fa2a82c51d0>"
      ]
     },
     "metadata": {},
     "output_type": "display_data"
    }
   ],
   "source": [
    "%pylab inline\n",
    "import matplotlib.pyplot as plt\n",
    "import numpy as np\n",
    "import seaborn as sns\n",
    "\n",
    "sns.distplot(dados_SSA_limpo.Age)\n",
    "sns.plt.title('Distribuicao das idades dos passageiros')"
   ]
  },
  {
   "cell_type": "markdown",
   "metadata": {},
   "source": [
    "Existe idades discrepantes (outliers)?"
   ]
  },
  {
   "cell_type": "code",
   "execution_count": 17,
   "metadata": {
    "collapsed": false
   },
   "outputs": [
    {
     "data": {
      "text/plain": [
       "<matplotlib.text.Text at 0x7fa29b5a19d0>"
      ]
     },
     "execution_count": 17,
     "metadata": {},
     "output_type": "execute_result"
    },
    {
     "data": {
      "image/png": "[encoded data removed]",
      "text/plain": [
       "<matplotlib.figure.Figure at 0x7fa29de47510>"
      ]
     },
     "metadata": {},
     "output_type": "display_data"
    }
   ],
   "source": [
    "plt.boxplot([dados_SSA_limpo.Age],1,'gd')\n",
    "plt.ylabel(\"Age\")\n",
    "plt.title('BoxPlot da variavel idade')"
   ]
  },
  {
   "cell_type": "markdown",
   "metadata": {},
   "source": [
    "Como pode ser observado nas duas figuras anteriores, foi utilizado o gráfico tipo boxplot para verificar a presença de outliers, que estão presentes para idades maiores que cerca de 65 anos.\n",
    "Segundo o [livro](https://books.google.com.br/books?id=ElxWPgAACAAJ), para ser considerado um outlier: "
   ]
  },
  {
   "cell_type": "markdown",
   "metadata": {},
   "source": [
    "Outlier (superior) > Q3 + 1,5*(Q3-Q1)"
   ]
  },
  {
   "cell_type": "code",
   "execution_count": 18,
   "metadata": {
    "collapsed": false
   },
   "outputs": [],
   "source": [
    "Outlier_superior = 38 + 1.5*(38-20.1)"
   ]
  },
  {
   "cell_type": "code",
   "execution_count": 19,
   "metadata": {
    "collapsed": false
   },
   "outputs": [
    {
     "data": {
      "text/plain": [
       "64.85"
      ]
     },
     "execution_count": 19,
     "metadata": {},
     "output_type": "execute_result"
    }
   ],
   "source": [
    "Outlier_superior"
   ]
  },
  {
   "cell_type": "markdown",
   "metadata": {},
   "source": [
    "38 + 1,5(38-20,1) = 64,9 anos (existe na amostra)"
   ]
  },
  {
   "cell_type": "markdown",
   "metadata": {},
   "source": [
    "Outlier (inferior) < Q3 - 1,5*(Q3-Q1) = 38 - 1,5(38-20,1) = 9,7 anos (não existe na amostra)"
   ]
  },
  {
   "cell_type": "code",
   "execution_count": 20,
   "metadata": {
    "collapsed": true
   },
   "outputs": [],
   "source": [
    "Outlier_inferior = 38 - 1.5*(38-20.1)"
   ]
  },
  {
   "cell_type": "code",
   "execution_count": 21,
   "metadata": {
    "collapsed": false
   },
   "outputs": [
    {
     "data": {
      "text/plain": [
       "11.150000000000002"
      ]
     },
     "execution_count": 21,
     "metadata": {},
     "output_type": "execute_result"
    }
   ],
   "source": [
    "Outlier_inferior"
   ]
  },
  {
   "cell_type": "markdown",
   "metadata": {},
   "source": [
    "Quantas pessoas maiores de 65 anos existem na base e quantas sobreviveram?"
   ]
  },
  {
   "cell_type": "code",
   "execution_count": 22,
   "metadata": {
    "collapsed": false
   },
   "outputs": [
    {
     "data": {
      "text/plain": [
       "11"
      ]
     },
     "execution_count": 22,
     "metadata": {},
     "output_type": "execute_result"
    }
   ],
   "source": [
    "len(dados_SSA_limpo[(dados_SSA_limpo.Age >=65)])"
   ]
  },
  {
   "cell_type": "code",
   "execution_count": 23,
   "metadata": {
    "collapsed": false
   },
   "outputs": [
    {
     "data": {
      "text/plain": [
       "1"
      ]
     },
     "execution_count": 23,
     "metadata": {},
     "output_type": "execute_result"
    }
   ],
   "source": [
    "len (dados_SSA_limpo[(dados_SSA_limpo.Survived==1) & (dados_SSA_limpo.Age >=65)])"
   ]
  },
  {
   "cell_type": "markdown",
   "metadata": {},
   "source": [
    "Das 11 pessoas maiores de 65 anos, somente uma sobreviveu.\n",
    "Qual seria o gênero destas pessoas?"
   ]
  },
  {
   "cell_type": "code",
   "execution_count": 24,
   "metadata": {
    "collapsed": false
   },
   "outputs": [
    {
     "data": {
      "text/html": [
       "<div>\n",
       "<table border=\"1\" class=\"dataframe\">\n",
       "  <thead>\n",
       "    <tr style=\"text-align: right;\">\n",
       "      <th></th>\n",
       "      <th>Survived</th>\n",
       "      <th>Sex</th>\n",
       "      <th>Age</th>\n",
       "    </tr>\n",
       "    <tr>\n",
       "      <th>PassengerId</th>\n",
       "      <th></th>\n",
       "      <th></th>\n",
       "      <th></th>\n",
       "    </tr>\n",
       "  </thead>\n",
       "  <tbody>\n",
       "    <tr>\n",
       "      <th>34</th>\n",
       "      <td>0</td>\n",
       "      <td>male</td>\n",
       "      <td>66.0</td>\n",
       "    </tr>\n",
       "    <tr>\n",
       "      <th>55</th>\n",
       "      <td>0</td>\n",
       "      <td>male</td>\n",
       "      <td>65.0</td>\n",
       "    </tr>\n",
       "    <tr>\n",
       "      <th>97</th>\n",
       "      <td>0</td>\n",
       "      <td>male</td>\n",
       "      <td>71.0</td>\n",
       "    </tr>\n",
       "    <tr>\n",
       "      <th>117</th>\n",
       "      <td>0</td>\n",
       "      <td>male</td>\n",
       "      <td>70.5</td>\n",
       "    </tr>\n",
       "    <tr>\n",
       "      <th>281</th>\n",
       "      <td>0</td>\n",
       "      <td>male</td>\n",
       "      <td>65.0</td>\n",
       "    </tr>\n",
       "    <tr>\n",
       "      <th>457</th>\n",
       "      <td>0</td>\n",
       "      <td>male</td>\n",
       "      <td>65.0</td>\n",
       "    </tr>\n",
       "    <tr>\n",
       "      <th>494</th>\n",
       "      <td>0</td>\n",
       "      <td>male</td>\n",
       "      <td>71.0</td>\n",
       "    </tr>\n",
       "    <tr>\n",
       "      <th>631</th>\n",
       "      <td>1</td>\n",
       "      <td>male</td>\n",
       "      <td>80.0</td>\n",
       "    </tr>\n",
       "    <tr>\n",
       "      <th>673</th>\n",
       "      <td>0</td>\n",
       "      <td>male</td>\n",
       "      <td>70.0</td>\n",
       "    </tr>\n",
       "    <tr>\n",
       "      <th>746</th>\n",
       "      <td>0</td>\n",
       "      <td>male</td>\n",
       "      <td>70.0</td>\n",
       "    </tr>\n",
       "    <tr>\n",
       "      <th>852</th>\n",
       "      <td>0</td>\n",
       "      <td>male</td>\n",
       "      <td>74.0</td>\n",
       "    </tr>\n",
       "  </tbody>\n",
       "</table>\n",
       "</div>"
      ],
      "text/plain": [
       "             Survived   Sex   Age\n",
       "PassengerId                      \n",
       "34                  0  male  66.0\n",
       "55                  0  male  65.0\n",
       "97                  0  male  71.0\n",
       "117                 0  male  70.5\n",
       "281                 0  male  65.0\n",
       "457                 0  male  65.0\n",
       "494                 0  male  71.0\n",
       "631                 1  male  80.0\n",
       "673                 0  male  70.0\n",
       "746                 0  male  70.0\n",
       "852                 0  male  74.0"
      ]
     },
     "execution_count": 24,
     "metadata": {},
     "output_type": "execute_result"
    }
   ],
   "source": [
    "dados_SSA_limpo[(dados_SSA_limpo.Sex=='male') & (dados_SSA_limpo.Age >=65)]"
   ]
  },
  {
   "cell_type": "markdown",
   "metadata": {},
   "source": [
    "Todos eram homens."
   ]
  },
  {
   "cell_type": "markdown",
   "metadata": {},
   "source": [
    "Conforme citado acima, existe uma regra internacional de embarcar prioritariamente mulheres e crianças. Na base de dados disponível trás a idade, mas surge a pergunta: Qual a idade para ser considerado criança?\n",
    "\n",
    "Apesar da grande divergência entre os especialistas quanto aos critérios de agrupamento etário, baseado nas duas fonte abaixo, foi estabelecido o seguinte critério neste trabalho: criança  <= 11 anos; 18 > adolescente >= 12 anos; 60 >= adulto  >= 19 anos; idoso > 60 anos.\n",
    "Fonte: [Portal Educação](https://www.portaleducacao.com.br/enfermagem/artigos/30165/vida-adulta) e [INSA](http://www.insa.gov.br/censosab/?option=com_content&view=article&id=101&Itemid=100)\n",
    "\n",
    "Assim, o próximo passo foi classificar segundo o critério adotado cada um dos passageiros da base limpa."
   ]
  },
  {
   "cell_type": "code",
   "execution_count": 25,
   "metadata": {
    "collapsed": false
   },
   "outputs": [],
   "source": [
    "def agrupa (idade):\n",
    "    \"\"\" Realiza classificação etária dos passageiros\n",
    "    Classifica os passageiros conforme suas idades em: Idoso, Adulto, Adolescente ou Criança.\n",
    "    Critério: criança <= 11 anos; 18 > adolescente >= 12 anos; 60 >= adulto >= 19 anos; idoso > 60 anos\n",
    "    \n",
    "    Argumentos:\n",
    "            Recebe uma idade            \n",
    "    Retornos:\n",
    "            Retorna a idade classificada conforme critério adotado.   \n",
    "    \"\"\"\n",
    "    if idade > 60.0:\n",
    "        return 'Idoso'\n",
    "    elif idade >= 19.0:\n",
    "        return 'Adulto'\n",
    "    elif idade >= 12.0:\n",
    "        return 'Adolescente'\n",
    "    else:\n",
    "        return 'Crianca'"
   ]
  },
  {
   "cell_type": "code",
   "execution_count": 26,
   "metadata": {
    "collapsed": false
   },
   "outputs": [],
   "source": [
    "AgrupEtar=dados_SSA_limpo.apply(lambda row: agrupa(row['Age']), axis=1)"
   ]
  },
  {
   "cell_type": "code",
   "execution_count": 27,
   "metadata": {
    "collapsed": false
   },
   "outputs": [],
   "source": [
    "df_Agrupa=pd.DataFrame(AgrupEtar, columns=['AgrupEtar'])"
   ]
  },
  {
   "cell_type": "code",
   "execution_count": 28,
   "metadata": {
    "collapsed": false
   },
   "outputs": [
    {
     "data": {
      "text/html": [
       "<div>\n",
       "<table border=\"1\" class=\"dataframe\">\n",
       "  <thead>\n",
       "    <tr style=\"text-align: right;\">\n",
       "      <th></th>\n",
       "      <th>Survived</th>\n",
       "      <th>Sex</th>\n",
       "      <th>Age</th>\n",
       "      <th>AgrupEtar</th>\n",
       "    </tr>\n",
       "    <tr>\n",
       "      <th>PassengerId</th>\n",
       "      <th></th>\n",
       "      <th></th>\n",
       "      <th></th>\n",
       "      <th></th>\n",
       "    </tr>\n",
       "  </thead>\n",
       "  <tbody>\n",
       "    <tr>\n",
       "      <th>1</th>\n",
       "      <td>0</td>\n",
       "      <td>male</td>\n",
       "      <td>22.0</td>\n",
       "      <td>Adulto</td>\n",
       "    </tr>\n",
       "    <tr>\n",
       "      <th>2</th>\n",
       "      <td>1</td>\n",
       "      <td>female</td>\n",
       "      <td>38.0</td>\n",
       "      <td>Adulto</td>\n",
       "    </tr>\n",
       "  </tbody>\n",
       "</table>\n",
       "</div>"
      ],
      "text/plain": [
       "             Survived     Sex   Age AgrupEtar\n",
       "PassengerId                                  \n",
       "1                   0    male  22.0    Adulto\n",
       "2                   1  female  38.0    Adulto"
      ]
     },
     "execution_count": 28,
     "metadata": {},
     "output_type": "execute_result"
    }
   ],
   "source": [
    "dados_SSA_limpo_2=pd.concat([dados_SSA_limpo, df_Agrupa],axis=1)\n",
    "dados_SSA_limpo_2.head(2)"
   ]
  },
  {
   "cell_type": "markdown",
   "metadata": {},
   "source": [
    "Como seria um gráfico de barras e o respectivos valores encontrados para cada um dos agrupamentos?"
   ]
  },
  {
   "cell_type": "code",
   "execution_count": 29,
   "metadata": {
    "collapsed": false
   },
   "outputs": [
    {
     "data": {
      "text/plain": [
       "Adulto         553\n",
       "Adolescente     71\n",
       "Crianca         68\n",
       "Idoso           22\n",
       "Name: AgrupEtar, dtype: int64"
      ]
     },
     "execution_count": 29,
     "metadata": {},
     "output_type": "execute_result"
    }
   ],
   "source": [
    "dados_SSA_limpo_2.AgrupEtar.value_counts()"
   ]
  },
  {
   "cell_type": "code",
   "execution_count": 30,
   "metadata": {
    "collapsed": false
   },
   "outputs": [
    {
     "data": {
      "text/plain": [
       "<matplotlib.text.Text at 0x7fa29b5000d0>"
      ]
     },
     "execution_count": 30,
     "metadata": {},
     "output_type": "execute_result"
    },
    {
     "data": {
      "image/png": "[encoded data removed]",
      "text/plain": [
       "<matplotlib.figure.Figure at 0x7fa29aecaf10>"
      ]
     },
     "metadata": {},
     "output_type": "display_data"
    }
   ],
   "source": [
    "Y= pd.np.array(dados_SSA_limpo_2.AgrupEtar.value_counts())\n",
    "X=[0,1,2,3]\n",
    "LABELS=['Adulto', 'Adolescente', 'Crianca', 'Idoso']\n",
    "plt.bar(X,Y,align='center')\n",
    "plt.xticks(X, LABELS)\n",
    "plt.ylabel(\"Quantidade\")\n",
    "plt.title('Quantitativo por faixa etaria de passageiro')"
   ]
  },
  {
   "cell_type": "markdown",
   "metadata": {},
   "source": [
    "Conforme saída acima, na base há: 553 adultos, 71 adolescentes, 68 crianças e 22 idosos"
   ]
  },
  {
   "cell_type": "markdown",
   "metadata": {},
   "source": [
    "Quantas mulheres ou crianças sobreviveram?"
   ]
  },
  {
   "cell_type": "code",
   "execution_count": 31,
   "metadata": {
    "collapsed": false
   },
   "outputs": [
    {
     "data": {
      "text/plain": [
       "217"
      ]
     },
     "execution_count": 31,
     "metadata": {},
     "output_type": "execute_result"
    }
   ],
   "source": [
    "len (dados_SSA_limpo_2[(dados_SSA_limpo_2.Survived==1) &\n",
    "                       ((dados_SSA_limpo_2.Sex=='female') |\n",
    "                       (dados_SSA_limpo_2.AgrupEtar=='Crianca'))])"
   ]
  },
  {
   "cell_type": "markdown",
   "metadata": {},
   "source": [
    "<font color='blue'> R3) Portanto, dos 714 passageiros da base de dados, 290 sobreviveram, sendo que destes 217 eram mulheres ou crianças; isto é, cerca de 75% dos sobreviventes eram mulheres ou crianças. Assim, parece que a norma internacional de priorização de mulheres e crianças foi atendida."
   ]
  },
  {
   "cell_type": "markdown",
   "metadata": {},
   "source": [
    "Quantas mulheres ou crianças morreram?"
   ]
  },
  {
   "cell_type": "code",
   "execution_count": 32,
   "metadata": {
    "collapsed": false
   },
   "outputs": [
    {
     "data": {
      "text/plain": [
       "80"
      ]
     },
     "execution_count": 32,
     "metadata": {},
     "output_type": "execute_result"
    }
   ],
   "source": [
    "len(dados_SSA_limpo_2[(dados_SSA_limpo_2.Survived==0) &\n",
    "                       ((dados_SSA_limpo_2.Sex=='female') |\n",
    "                       (dados_SSA_limpo_2.AgrupEtar=='Crianca'))])"
   ]
  },
  {
   "cell_type": "markdown",
   "metadata": {},
   "source": [
    "Portanto, dos 714 passageiros da base de dados, 424 morreram, sendo que destes 80 eram mulheres ou crianças; isto é, cerca de 18,9% dos mortos eram mulheres ou crianças."
   ]
  },
  {
   "cell_type": "markdown",
   "metadata": {},
   "source": [
    "<font color='green '> Q4)  Qual a classe de viagens das mulheres ou crianças mortos?"
   ]
  },
  {
   "cell_type": "code",
   "execution_count": 33,
   "metadata": {
    "collapsed": false
   },
   "outputs": [],
   "source": [
    "I_MC_mortos=dados_SSA_limpo_2[(dados_SSA_limpo_2.Survived==0) &\n",
    "                       ((dados_SSA_limpo_2.Sex=='female') |\n",
    "                       (dados_SSA_limpo_2.AgrupEtar=='Crianca'))].index"
   ]
  },
  {
   "cell_type": "code",
   "execution_count": 34,
   "metadata": {
    "collapsed": false
   },
   "outputs": [],
   "source": [
    "Classe=dados.iloc[I_MC_mortos-1]"
   ]
  },
  {
   "cell_type": "markdown",
   "metadata": {},
   "source": [
    "Está faltando algum dado no campo Pclass desta sub-base? Devem existir 80 dados."
   ]
  },
  {
   "cell_type": "code",
   "execution_count": 35,
   "metadata": {
    "collapsed": false
   },
   "outputs": [
    {
     "data": {
      "text/plain": [
       "80"
      ]
     },
     "execution_count": 35,
     "metadata": {},
     "output_type": "execute_result"
    }
   ],
   "source": [
    "Classe.Pclass.count()"
   ]
  },
  {
   "cell_type": "code",
   "execution_count": 36,
   "metadata": {
    "collapsed": false
   },
   "outputs": [
    {
     "data": {
      "text/plain": [
       "<matplotlib.text.Text at 0x7fa29ad3b890>"
      ]
     },
     "execution_count": 36,
     "metadata": {},
     "output_type": "execute_result"
    },
    {
     "data": {
      "image/png": "[encoded data removed]",
      "text/plain": [
       "<matplotlib.figure.Figure at 0x7fa29b4f5790>"
      ]
     },
     "metadata": {},
     "output_type": "display_data"
    }
   ],
   "source": [
    "Y=pd.np.array(Classe.Pclass.value_counts())\n",
    "X=[0,1,2]\n",
    "LABELS=['3 Classe', '2 Classe', '1 Classe']\n",
    "plt.bar(X,Y,align='center')\n",
    "plt.xticks(X, LABELS)\n",
    "plt.ylabel(\"Quantidade\")\n",
    "plt.title('Quantitativo de nao-sobreviventes mulheres ou criancas por classe do passageiro')"
   ]
  },
  {
   "cell_type": "markdown",
   "metadata": {},
   "source": [
    "<font color='blue '> R4) Das 80 mulheres ou crianças que morreram, 71 erram da 3ª Classe, isto corresponde a 88,8% dos mortos nesta categória."
   ]
  },
  {
   "cell_type": "markdown",
   "metadata": {},
   "source": [
    "Salvo existisse alguma dificuldade de locomoção com os passageiros da 3ª classse - devido, por exemplo, a localização física das acomodações desta categória, esse achado ( 88.8% de mulheres ou crianças mortos eram da 3ª classe) mostra que pode ter existido critérios econômicos para a escolha de quem salvar.\n",
    "<font color='green '> Q5) Qual a categória das 217 mulheres ou crianças que se salvaram?"
   ]
  },
  {
   "cell_type": "code",
   "execution_count": 37,
   "metadata": {
    "collapsed": true
   },
   "outputs": [],
   "source": [
    "I_MC_vivos=dados_SSA_limpo_2[(dados_SSA_limpo_2.Survived==1) &\n",
    "                       ((dados_SSA_limpo_2.Sex=='female') |\n",
    "                       (dados_SSA_limpo_2.AgrupEtar=='Crianca'))].index"
   ]
  },
  {
   "cell_type": "code",
   "execution_count": 38,
   "metadata": {
    "collapsed": false
   },
   "outputs": [],
   "source": [
    "Classe_v=dados.iloc[I_MC_vivos-1]"
   ]
  },
  {
   "cell_type": "code",
   "execution_count": 39,
   "metadata": {
    "collapsed": false
   },
   "outputs": [
    {
     "data": {
      "text/plain": [
       "217"
      ]
     },
     "execution_count": 39,
     "metadata": {},
     "output_type": "execute_result"
    }
   ],
   "source": [
    "Classe_v.Pclass.count()"
   ]
  },
  {
   "cell_type": "code",
   "execution_count": 40,
   "metadata": {
    "collapsed": false
   },
   "outputs": [
    {
     "data": {
      "text/plain": [
       "1    85\n",
       "2    77\n",
       "3    55\n",
       "Name: Pclass, dtype: int64"
      ]
     },
     "execution_count": 40,
     "metadata": {},
     "output_type": "execute_result"
    }
   ],
   "source": [
    "Classe_v.Pclass.value_counts()"
   ]
  },
  {
   "cell_type": "code",
   "execution_count": 41,
   "metadata": {
    "collapsed": false
   },
   "outputs": [
    {
     "data": {
      "text/plain": [
       "<matplotlib.text.Text at 0x7fa29ac7a6d0>"
      ]
     },
     "execution_count": 41,
     "metadata": {},
     "output_type": "execute_result"
    },
    {
     "data": {
      "image/png": "[encoded data removed]",
      "text/plain": [
       "<matplotlib.figure.Figure at 0x7fa29aca44d0>"
      ]
     },
     "metadata": {},
     "output_type": "display_data"
    }
   ],
   "source": [
    "Y=pd.np.array(Classe_v.Pclass.value_counts())\n",
    "X=[0,1,2]\n",
    "LABELS=['1 Classe', '2 Classe', '3 Classe']\n",
    "plt.bar(X,Y,align='center')\n",
    "plt.xticks(X, LABELS)\n",
    "plt.ylabel(\"Quantidade\")\n",
    "plt.title('Quantitativo de sobreviventes mulheres ou criancas por classe do passageiro')"
   ]
  },
  {
   "cell_type": "markdown",
   "metadata": {},
   "source": [
    "<font color='blue '> R5) Conforme ilustrado na gráfico de barras acima, realmente mulheres e crianças da 1ª classe foram as que mais de salvaram (39,2%), seguidos pela 2ª Classe (35,5%); juntas, elas essas duas classes representaram cerca de 75% dos salvos. Já a 3ª Classe obteve o menor percentual de salvos (25,3%). "
   ]
  },
  {
   "cell_type": "markdown",
   "metadata": {},
   "source": [
    "<font color='green '> Q6)Agora, independente da idade e do sexo, como foi o comportamento entre número de mortos em função da classe da viagem?"
   ]
  },
  {
   "cell_type": "code",
   "execution_count": 42,
   "metadata": {
    "collapsed": true
   },
   "outputs": [],
   "source": [
    "SP_mortos=pd.concat([dados['Survived'], dados['Pclass']],axis=1)"
   ]
  },
  {
   "cell_type": "code",
   "execution_count": 43,
   "metadata": {
    "collapsed": false
   },
   "outputs": [],
   "source": [
    "mortos_1C=len(SP_mortos[(SP_mortos.Survived==0) & (SP_mortos.Pclass==1)])\n",
    "mortos_2C=len(SP_mortos[(SP_mortos.Survived==0) & (SP_mortos.Pclass==2)])\n",
    "mortos_3C=len(SP_mortos[(SP_mortos.Survived==0) & (SP_mortos.Pclass==3)])"
   ]
  },
  {
   "cell_type": "code",
   "execution_count": 44,
   "metadata": {
    "collapsed": false
   },
   "outputs": [
    {
     "data": {
      "text/plain": [
       "<matplotlib.text.Text at 0x7fa29abbecd0>"
      ]
     },
     "execution_count": 44,
     "metadata": {},
     "output_type": "execute_result"
    },
    {
     "data": {
      "image/png": "[encoded data removed]",
      "text/plain": [
       "<matplotlib.figure.Figure at 0x7fa29ac63390>"
      ]
     },
     "metadata": {},
     "output_type": "display_data"
    }
   ],
   "source": [
    "Y1=[mortos_1C, mortos_2C, mortos_3C]\n",
    "X1=[1,2,3]\n",
    "LABELS=['1 Classe', '2 Classe', '3 Classe']\n",
    "plt.bar(X1,Y1,  align='center')\n",
    "plt.xticks(X1, LABELS)\n",
    "plt.ylabel('Quantidade')\n",
    "plt.title('Quantitativo de nao-sobreviventes por classe do passageiro')"
   ]
  },
  {
   "cell_type": "code",
   "execution_count": 45,
   "metadata": {
    "collapsed": false
   },
   "outputs": [
    {
     "data": {
      "text/plain": [
       "[80, 97, 372]"
      ]
     },
     "execution_count": 45,
     "metadata": {},
     "output_type": "execute_result"
    }
   ],
   "source": [
    "Y1"
   ]
  },
  {
   "cell_type": "markdown",
   "metadata": {},
   "source": [
    "<font color='blue '> R6) Portanto, dos 549 mortos na tragédia - registrados na base de dados -, 14,6% eram da 1ª classe, 17,7% da 2ª classe e 67,7% da 3ª classe."
   ]
  },
  {
   "cell_type": "markdown",
   "metadata": {},
   "source": [
    "Voltando a Questão 1: como responde-la considerando a variável idade?"
   ]
  },
  {
   "cell_type": "markdown",
   "metadata": {},
   "source": [
    "Dados:\n",
    "- Variável: idade;\n",
    "- Variância da População: Será considerado a variãncia da amostra\n",
    "- Grau de confiança: 95% -> Z=1,96 (adotado)\n",
    "- Margem de erro: 3% (adotado)\n",
    "- População: 2224"
   ]
  },
  {
   "cell_type": "code",
   "execution_count": 46,
   "metadata": {
    "collapsed": false
   },
   "outputs": [],
   "source": [
    "n=(2224*14.526497**2*1.96**2)/(2224-1*(0.03*29.699118)**2+ 14.526497**2*1.96**2)"
   ]
  },
  {
   "cell_type": "code",
   "execution_count": 47,
   "metadata": {
    "collapsed": false
   },
   "outputs": [
    {
     "data": {
      "text/plain": [
       "594.2560174343182"
      ]
     },
     "execution_count": 47,
     "metadata": {},
     "output_type": "execute_result"
    }
   ],
   "source": [
    "n"
   ]
  },
  {
   "cell_type": "markdown",
   "metadata": {},
   "source": [
    "<font color='blue '> R1) Portanto, como o número de amostras da base de dados para a variável idade (714) é maior que a calculada (594), a amostra tem representatividade estatistica da população com grau de confiança de 95% e margem de erro de 3%."
   ]
  },
  {
   "cell_type": "markdown",
   "metadata": {},
   "source": [
    "**Conclusões**"
   ]
  },
  {
   "cell_type": "markdown",
   "metadata": {},
   "source": [
    "Conforme achados, as __variáves que mais parecem influenciar a sobrevivenvia__ neste acidente foram: __ser mulher__, __ser criança__ ou __ser passageiro da 1ª classe__. Os dados utilizados são representativos da amostra; conforme calculado para a variável idade, tem-se um grau de confiança de 95% e margem de erro de 3%.\n",
    "Contudo, podem existir ainda variáveis ocultas, tais como a localização física dos passageiros, que podem influenciar sobremaneira sua retirada do navio e consequentemente sua sobrevivencia.\n",
    "Notou-se também grande correlação entre as variáveis sobrevivência e classe da viagem, contudo, sem a realização de um experímento, não se pode afirmar a existencia de causalidade entre essas variáveis.\n",
    "Como recomendação de trabalhos futuros, caberia a utilização de testes de hipóteses com a estatística t (uma vez que os parâmetros da população não são conhecidos) para aceitar ou refutar a hipótese de que a média de mortos de mulheres ou crianças da 3ª classe foi maior que a da 1ª classe; e ainda a utilização de um modelo neural, com 3 entradas (idade, classe e sexo) e uma saída (sobrevivência) de forma atentar predizer a sobrevivência de um passageiro; por fim, o estudo da influência de outras variáveis ou mesmo suas correlações é recomendado.\n",
    "\n",
    "\n",
    "\n"
   ]
  },
  {
   "cell_type": "code",
   "execution_count": null,
   "metadata": {
    "collapsed": true
   },
   "outputs": [],
   "source": []
  }
 ],
 "metadata": {
  "anaconda-cloud": {},
  "kernelspec": {
   "display_name": "Python [default]",
   "language": "python",
   "name": "python2"
  },
  "language_info": {
   "codemirror_mode": {
    "name": "ipython",
    "version": 2
   },
   "file_extension": ".py",
   "mimetype": "text/x-python",
   "name": "python",
   "nbconvert_exporter": "python",
   "pygments_lexer": "ipython2",
   "version": "2.7.12"
  }
 },
 "nbformat": 4,
 "nbformat_minor": 1
}
